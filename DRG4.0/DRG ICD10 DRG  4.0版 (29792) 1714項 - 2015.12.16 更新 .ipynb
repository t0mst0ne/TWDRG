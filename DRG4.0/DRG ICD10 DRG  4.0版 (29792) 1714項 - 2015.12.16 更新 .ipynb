{
 "cells": [
  {
   "cell_type": "markdown",
   "metadata": {},
   "source": [
    "# 讀取 DRG 4.0版 1700項 權重表 "
   ]
  },
  {
   "cell_type": "code",
   "execution_count": null,
   "metadata": {
    "collapsed": false
   },
   "outputs": [],
   "source": [
    "import pandas as pd\n",
    "import numpy as np\n",
    "\n"
   ]
  },
  {
   "cell_type": "markdown",
   "metadata": {},
   "source": [
    "# 讀取DRG 4.0 版 分類表"
   ]
  },
  {
   "cell_type": "code",
   "execution_count": null,
   "metadata": {
    "collapsed": false
   },
   "outputs": [],
   "source": [
    "sheet = pd.read_excel('NHI/29792_1_Tw-DRG4.0版分類表_ICD-10-CMPCS_1041216.xlsx', sheetname=[ x for x in range(4,27)], index_col=None)"
   ]
  },
  {
   "cell_type": "markdown",
   "metadata": {},
   "source": [
    "## 把sheet [4:27] 列表 7.1  讀進到 dataframe"
   ]
  },
  {
   "cell_type": "code",
   "execution_count": null,
   "metadata": {
    "collapsed": false,
    "scrolled": false
   },
   "outputs": [],
   "source": [
    "# sheetname=[tab for tab in range(4,27)]\n",
    "for tab in range(4,27):\n",
    "    DRG = sheet[tab]\n",
    "    DRG = DRG.reset_index()\n",
    "    print DRG.head(1)\n",
    "    step1 = DRG [ pd.isnull(DRG[DRG.columns[1]]) & pd.notnull(DRG[DRG.columns[2]]) & pd.notnull(DRG[DRG.columns[3]]) ]\n",
    "    step1 = step1[['index',DRG.columns[2], 'Unnamed: 2']]\n",
    "    step1.columns = ['DRG','CM-PCS','en']\n",
    "    step1.loc[:,'DRG'] = step1.loc[:,'DRG'].str.replace(u'\\u3001',',' )\n",
    "    for x in step1.DRG.unique():\n",
    "        y = x.split(',')\n",
    "        #print y\n",
    "        for z in y:\n",
    "            #print z\n",
    "            step3 = step1 [ step1.DRG.str.contains(x) ]\n",
    "            step3.DRG = z\n",
    "            step3.loc[:,'DRG'] = step3.loc[:,'DRG'].replace(r'^(\\d\\d\\d)$','00\\\\1' , regex=True)\n",
    "            step3.loc[:,'DRG'] = step3.loc[:,'DRG'].replace(r'^(\\d\\d\\d\\d)$','0\\\\1' , regex=True)\n",
    "            step3.loc[:,'DRG'] = step3.loc[:,'DRG'].replace(r'^(\\d+)','DRG\\\\1' , regex=True)\n",
    "            #print step3.head(1)\n",
    "            step3.to_csv('DRG4/%s.csv' %(step3.DRG.unique().tolist()[0]), index=False, encoding='utf-8')\n",
    "    step2 = DRG [ DRG[ DRG.columns[1] ].str.contains('DRG') & pd.notnull(DRG[DRG.columns[2]]) & pd.isnull(DRG[DRG.columns[3]]) ]\n",
    "    step2[step2.columns[[1,2]]].to_csv('DRG4/tab_%s.csv' %(tab),index=False, encoding='utf-8',sep='\\t',header=False)\n",
    "    \n"
   ]
  },
  {
   "cell_type": "code",
   "execution_count": null,
   "metadata": {
    "collapsed": true
   },
   "outputs": [],
   "source": []
  }
 ],
 "metadata": {
  "kernelspec": {
   "display_name": "Python 2",
   "language": "python",
   "name": "python2"
  },
  "language_info": {
   "codemirror_mode": {
    "name": "ipython",
    "version": 2
   },
   "file_extension": ".py",
   "mimetype": "text/x-python",
   "name": "python",
   "nbconvert_exporter": "python",
   "pygments_lexer": "ipython2",
   "version": "2.7.10"
  }
 },
 "nbformat": 4,
 "nbformat_minor": 0
}

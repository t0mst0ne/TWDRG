{
 "cells": [
  {
   "cell_type": "markdown",
   "metadata": {},
   "source": [
    "# 讀取 DRG 3.4版 1062項 權重表 "
   ]
  },
  {
   "cell_type": "code",
   "execution_count": 2,
   "metadata": {
    "collapsed": false
   },
   "outputs": [],
   "source": [
    "import pandas as pd\n",
    "import numpy as np\n",
    "\n"
   ]
  },
  {
   "cell_type": "markdown",
   "metadata": {},
   "source": [
    "# 讀取DRG 3.4 版 分類表"
   ]
  },
  {
   "cell_type": "code",
   "execution_count": 3,
   "metadata": {
    "collapsed": false
   },
   "outputs": [],
   "source": [
    "sheet = pd.read_excel('NHI/29705_1_Tw-DRG3.4版分類表_ICD-10-CMPCS_1050104.xlsx', sheetname=[ x for x in range(4,27)], index_col=None)"
   ]
  },
  {
   "cell_type": "markdown",
   "metadata": {},
   "source": [
    "## 把sheet [4:27] 列表 7.1  讀進到 dataframe"
   ]
  },
  {
   "cell_type": "code",
   "execution_count": 5,
   "metadata": {
    "collapsed": false,
    "scrolled": false
   },
   "outputs": [
    {
     "name": "stdout",
     "output_type": "stream",
     "text": [
      "  index 附表7.1        Tw-DRGs分類表 Unnamed: 1 Unnamed: 2  Unnamed: 3 Unnamed: 4\n",
      "0   NaN                     NaN        NaN        NaN         NaN        NaN\n",
      "  index MDC1                                    神經系統之疾病與疾患 Unnamed: 2  \\\n",
      "0   NaN  NaN  DISEASES AND DISORDERS OF THE NERVOUS SYSTEM        NaN   \n",
      "\n",
      "   Unnamed: 3 異動註記  \n",
      "0         NaN  NaN  \n",
      "  index MDC2                             眼之疾病與疾患 Unnamed: 2  Unnamed: 3 異動註記\n",
      "0   NaN  NaN  DISEASES AND DISORDERS OF THE EYE         NaN         NaN  NaN\n",
      "  index MDC3                                       耳鼻喉及口腔之疾病與疾患 Unnamed: 2  \\\n",
      "0   NaN  NaN  DISEASES AND DISORDERS OF THE EAR, NOSE, MOUTH...        NaN   \n",
      "\n",
      "   Unnamed: 3 異動註記  \n",
      "0         NaN  NaN  \n",
      "  index MDC4                                        呼吸系統之疾病與疾患 Unnamed: 2  \\\n",
      "0   NaN  NaN  DISEASES AND DISORDERS OF THE RESPIRATORY SYSTEM        NaN   \n",
      "\n",
      "   Unnamed: 3 異動註記  \n",
      "0         NaN  NaN  \n",
      "  index MDC5                                        循環系統之疾病與疾患 Unnamed: 2  \\\n",
      "0   NaN  NaN  DISEASES AND DISORDERS OF THE CIRCULATORY SYSTEM        NaN   \n",
      "\n",
      "   Unnamed: 3 異動註記  \n",
      "0         NaN  NaN  \n",
      "  index MDC6                                       消化系統之疾病與疾患 Unnamed: 2  \\\n",
      "0   NaN  NaN  DISEASES AND DISORDERS OF THE DIGESTIVE SYSTEM         NaN   \n",
      "\n",
      "   Unnamed: 3 異動註記  \n",
      "0         NaN  NaN  \n",
      "  index MDC7                                     肝、膽系統或胰臟之疾病與疾患 Unnamed: 2  \\\n",
      "0   NaN  NaN  DISEASES AND DISORDERS OF THE HEPATOBILIARY SY...        NaN   \n",
      "\n",
      "   Unnamed: 3 異動註記  \n",
      "0         NaN  NaN  \n",
      "  index MDC8                                 骨骼、肌肉系統及結締組織之疾病與疾患 Unnamed: 2  \\\n",
      "0   NaN  NaN  DISEASES AND DISORDERS OF THE MUSCULOSKELETAL ...        NaN   \n",
      "\n",
      "   Unnamed: 3 異動註記  \n",
      "0         NaN  NaN  \n",
      "  index MDC9                                   皮膚、皮下組織及乳房之疾病與疾患 Unnamed: 2  \\\n",
      "0   NaN  NaN  DISEASES AND DISORDERS OF THE SKIN, SUBCUTANEO...        NaN   \n",
      "\n",
      "   Unnamed: 3 異動註記  \n",
      "0         NaN  NaN  \n",
      "  index MDC10                                  內分泌、營養及新陳代謝之疾病與疾患 Unnamed: 2  \\\n",
      "0   NaN   NaN  ENDOCRINE, NUTRITIONAL AND METABOLIC DISEASES ...        NaN   \n",
      "\n",
      "   Unnamed: 3 異動註記  \n",
      "0         NaN  NaN  \n",
      "  index MDC11                                         腎及尿道之疾病與疾患 Unnamed: 2  \\\n",
      "0   NaN   NaN  DISEASES AND DISORDERS OF THE KIDNEY AND URINA...        NaN   \n",
      "\n",
      "   Unnamed: 3 異動註記  \n",
      "0         NaN  NaN  \n",
      "  index MDC12                                       男性生殖系統之疾病與疾患 Unnamed: 2  \\\n",
      "0   NaN   NaN  DISEASES AND DISORDERS OF THE MALE REPRODUCTIV...        NaN   \n",
      "\n",
      "   Unnamed: 3 異動註記  \n",
      "0         NaN  NaN  \n",
      "  index MDC13                                       女性生殖系統之疾病與疾患 Unnamed: 2  \\\n",
      "0   NaN   NaN  DISEASES AND DISORDERS OF THE FEMALE REPRODUCT...        NaN   \n",
      "\n",
      "   Unnamed: 3 異動註記  \n",
      "0         NaN  NaN  \n",
      "  index MDC14                                 妊娠、生產與產褥期 Unnamed: 2  \\\n",
      "0   NaN   NaN  PREGNANCY, CHILDBIRTH AND THE PUERPERIUM        NaN   \n",
      "\n",
      "   Unnamed: 3 異動註記  \n",
      "0         NaN  NaN  \n",
      "  index MDC15                                  新生兒與其他源於週產期病態之新生兒 Unnamed: 2  \\\n",
      "0   NaN   NaN  NEWBORNS AND OTHER NEONATES WITH CONDITIONS OR...        NaN   \n",
      "\n",
      "   Unnamed: 3 異動註記  \n",
      "0         NaN  NaN  \n",
      "  index MDC16                                      血液及造血器官之疾病與疾患 Unnamed: 2  \\\n",
      "0   NaN   NaN  DISEASES AND DISORDERS OF THE BLOOD AND BLOOD ...        NaN   \n",
      "\n",
      "   Unnamed: 3 異動註記  \n",
      "0         NaN  NaN  \n",
      "  index MDC17                                     骨髓增生性疾病或分化不明腫瘤 Unnamed: 2  \\\n",
      "0   NaN   NaN  MYELOPROLIFERATIVE DISEASES AND DISORDERS, AND...        NaN   \n",
      "\n",
      "   Unnamed: 3  異動註記  \n",
      "0         NaN   NaN  \n",
      "  index MDC18                                           傳染疾病寄生蟲病 Unnamed: 2  \\\n",
      "0   NaN   NaN  INFECTIOUS AND PARASITIC DISEASES（SYSTEMIC OR ...        NaN   \n",
      "\n",
      "   Unnamed: 3 異動註記  \n",
      "0         NaN  NaN  \n",
      "  index MDC21                                     損傷、中毒與藥品毒性作用 Unnamed: 2  \\\n",
      "0   NaN   NaN  INJURIES, POISONINGS AND TOXIC EFFECTS OF DRUGS        NaN   \n",
      "\n",
      "   Unnamed: 3 異動註記  \n",
      "0         NaN  NaN  \n",
      "  index MDC22     燒傷 Unnamed: 2  Unnamed: 3  異動註記\n",
      "0   NaN   NaN  BURNS        NaN         NaN   NaN\n",
      "  index MDC23                                 影響健康狀態之因素與需要其他醫療服務 Unnamed: 2  \\\n",
      "0   NaN   NaN  FACTORS INFLUENCING HEALTH STATUS AND OTHER CO...        NaN   \n",
      "\n",
      "   Unnamed: 3 異動註記  \n",
      "0         NaN  NaN  \n",
      "  index MDC24                                        多重外傷 Unnamed: 2  \\\n",
      "0   NaN   NaN  (主要診斷為外傷，且診斷碼中至少有兩個以上附表7.1.10所列，不同部位的外傷診斷)        NaN   \n",
      "\n",
      "   Unnamed: 3 異動註記  \n",
      "0         NaN  NaN  \n"
     ]
    },
    {
     "name": "stderr",
     "output_type": "stream",
     "text": [
      "/Library/Python/2.7/site-packages/pandas/core/generic.py:2387: SettingWithCopyWarning: \n",
      "A value is trying to be set on a copy of a slice from a DataFrame.\n",
      "Try using .loc[row_indexer,col_indexer] = value instead\n",
      "\n",
      "See the caveats in the documentation: http://pandas.pydata.org/pandas-docs/stable/indexing.html#indexing-view-versus-copy\n",
      "  self[name] = value\n",
      "/Library/Python/2.7/site-packages/pandas/core/indexing.py:508: SettingWithCopyWarning: \n",
      "A value is trying to be set on a copy of a slice from a DataFrame.\n",
      "Try using .loc[row_indexer,col_indexer] = value instead\n",
      "\n",
      "See the caveats in the documentation: http://pandas.pydata.org/pandas-docs/stable/indexing.html#indexing-view-versus-copy\n",
      "  self.obj[item_labels[indexer[info_axis]]] = value\n"
     ]
    }
   ],
   "source": [
    "# sheetname=[tab for tab in range(4,27)]\n",
    "for tab in range(4,27):\n",
    "    DRG = sheet[tab]\n",
    "    DRG = DRG.reset_index()\n",
    "    print DRG.head(1)\n",
    "    step1 = DRG [ pd.isnull(DRG[DRG.columns[1]]) & pd.notnull(DRG[DRG.columns[2]]) & pd.notnull(DRG[DRG.columns[3]]) ]\n",
    "    step1 = step1[['index',DRG.columns[2], 'Unnamed: 2']]\n",
    "    step1.columns = ['DRG','CM-PCS','en']\n",
    "    step1.loc[:,'DRG'] = step1.loc[:,'DRG'].str.replace(u'\\u3001',',' )\n",
    "    for x in step1.DRG.unique():\n",
    "        y = x.split(',')\n",
    "        #print y\n",
    "        for z in y:\n",
    "            #print z\n",
    "            step3 = step1 [ step1.DRG.str.contains(x) ]\n",
    "            step3.DRG = z\n",
    "            step3.loc[:,'DRG'] = step3.loc[:,'DRG'].replace(r'^(\\d\\d\\d)$','00\\\\1' , regex=True)\n",
    "            step3.loc[:,'DRG'] = step3.loc[:,'DRG'].replace(r'^(\\d\\d\\d\\d)$','0\\\\1' , regex=True)\n",
    "            step3.loc[:,'DRG'] = step3.loc[:,'DRG'].replace(r'^(\\d+)','DRG\\\\1' , regex=True)\n",
    "            #print step3.head(1)\n",
    "            step3.to_csv('DRG3.4/%s.csv' %(step3.DRG.unique().tolist()[0]), index=False, encoding='utf-8')\n",
    "    step2 = DRG [ DRG[ DRG.columns[1] ].str.contains('DRG|N') & pd.notnull(DRG[DRG.columns[2]]) & pd.isnull(DRG[DRG.columns[3]]) ]\n",
    "    step2[step2.columns[[1,2]]].to_csv('DRG3.4/tab_%s.csv' %(tab),index=False, encoding='utf-8',sep='\\t',header=False)\n",
    "    \n"
   ]
  },
  {
   "cell_type": "code",
   "execution_count": 14,
   "metadata": {
    "collapsed": false
   },
   "outputs": [],
   "source": [
    "Uro = pd.read_excel('NHI/29705_1_Tw-DRG3.4版分類表_ICD-10-CMPCS_1050104.xlsx',sheetname=33 )\n",
    "Uro.columns = [['A','B','C','D']]\n",
    "Uro = Uro[['A','B','C']]\n",
    "Uro['A'] = Uro['A'].fillna(method= 'ffill' )\n",
    "\n",
    "Uro2 = Uro [ pd.notnull(Uro.A) & pd.notnull(Uro.B) & pd.notnull(Uro.C)]\n",
    "Uro2.loc[:,'A'] = Uro2.loc[:,'A'].replace(r' ','' , regex=True)\n",
    "\n",
    "\n",
    "DRG47601 = Uro2 [ Uro2.A.str.contains('47602') ].copy()\n",
    "DRG47601.loc[:,'A'] = 'DRG47601'\n",
    "DRG47601.to_csv('DRG3.4/DRG47601.csv', index=False, header=False, encoding='utf-8')\n",
    "\n",
    "DRG47701 = Uro2 [ Uro2.A.str.contains('47704') ].copy()\n",
    "DRG47701.loc[:,'A'] = 'DRG47701'\n",
    "DRG47701.to_csv('DRG3.4/DRG47701.csv', index=False, header=False, encoding='utf-8')\n",
    "\n",
    "DRG47702 = Uro2 [ Uro2.A.str.contains('47704') ].copy()\n",
    "DRG47702.loc[:,'A'] = 'DRG47702'\n",
    "DRG47702.to_csv('DRG3.4/DRG47702.csv', index=False, header=False, encoding='utf-8')\n",
    "\n",
    "\n",
    "DRG47703 = Uro2 [ Uro2.A.str.contains('47704') ].copy()\n",
    "DRG47703.loc[:,'A'] = 'DRG47703'\n",
    "DRG47703.to_csv('DRG3.4/DRG47703.csv' , index=False,header=False, encoding='utf-8')\n",
    "\n",
    "Uro2 [ Uro2.A.str.contains('47602') ].to_csv('DRG3.4/DRG47602.csv' , index=False,header=False,encoding='utf-8')\n",
    "Uro2 [ Uro2.A.str.contains('47704') ].to_csv('DRG3.4/DRG47704.csv' , index=False,header=False, encoding='utf-8')\n"
   ]
  },
  {
   "cell_type": "markdown",
   "metadata": {
    "collapsed": true
   },
   "source": [
    "# 讀取 DRG 3.4版 1062 項 權重表"
   ]
  },
  {
   "cell_type": "code",
   "execution_count": 4,
   "metadata": {
    "collapsed": false
   },
   "outputs": [
    {
     "name": "stdout",
     "output_type": "stream",
     "text": [
      "1062\n"
     ]
    },
    {
     "name": "stderr",
     "output_type": "stream",
     "text": [
      "/Library/Python/2.7/site-packages/pandas/core/indexing.py:426: SettingWithCopyWarning: \n",
      "A value is trying to be set on a copy of a slice from a DataFrame.\n",
      "Try using .loc[row_indexer,col_indexer] = value instead\n",
      "\n",
      "See the caveats in the documentation: http://pandas.pydata.org/pandas-docs/stable/indexing.html#indexing-view-versus-copy\n",
      "  self.obj[item] = s\n"
     ]
    },
    {
     "data": {
      "text/html": [
       "<div>\n",
       "<table border=\"1\" class=\"dataframe\">\n",
       "  <thead>\n",
       "    <tr style=\"text-align: right;\">\n",
       "      <th></th>\n",
       "      <th>MDC</th>\n",
       "      <th>流水號</th>\n",
       "      <th>DRG</th>\n",
       "      <th>RW</th>\n",
       "      <th>個案數&lt;20註記</th>\n",
       "      <th>邏輯註記</th>\n",
       "      <th>幾何平均住院日</th>\n",
       "      <th>下限臨界點</th>\n",
       "      <th>上限臨界點</th>\n",
       "    </tr>\n",
       "  </thead>\n",
       "  <tbody>\n",
       "    <tr>\n",
       "      <th>10</th>\n",
       "      <td>PRE</td>\n",
       "      <td>11</td>\n",
       "      <td>DRG48201</td>\n",
       "      <td>2.7254</td>\n",
       "      <td>NaN</td>\n",
       "      <td>NaN</td>\n",
       "      <td>12</td>\n",
       "      <td>24614</td>\n",
       "      <td>241318</td>\n",
       "    </tr>\n",
       "    <tr>\n",
       "      <th>11</th>\n",
       "      <td>PRE</td>\n",
       "      <td>12</td>\n",
       "      <td>DRG48202</td>\n",
       "      <td>2.6825</td>\n",
       "      <td>NaN</td>\n",
       "      <td>NaN</td>\n",
       "      <td>10</td>\n",
       "      <td>28165</td>\n",
       "      <td>272443</td>\n",
       "    </tr>\n",
       "    <tr>\n",
       "      <th>12</th>\n",
       "      <td>PRE</td>\n",
       "      <td>13</td>\n",
       "      <td>DRG00512</td>\n",
       "      <td>12.6895</td>\n",
       "      <td>＊</td>\n",
       "      <td>NaN</td>\n",
       "      <td>16</td>\n",
       "      <td>462335</td>\n",
       "      <td>570755</td>\n",
       "    </tr>\n",
       "    <tr>\n",
       "      <th>13</th>\n",
       "      <td>1</td>\n",
       "      <td>1</td>\n",
       "      <td>DRG00201</td>\n",
       "      <td>3.9266</td>\n",
       "      <td>NaN</td>\n",
       "      <td>NaN</td>\n",
       "      <td>14</td>\n",
       "      <td>55940</td>\n",
       "      <td>312454</td>\n",
       "    </tr>\n",
       "    <tr>\n",
       "      <th>14</th>\n",
       "      <td>1</td>\n",
       "      <td>2</td>\n",
       "      <td>DRG00202</td>\n",
       "      <td>2.7115</td>\n",
       "      <td>NaN</td>\n",
       "      <td>NaN</td>\n",
       "      <td>9</td>\n",
       "      <td>49323</td>\n",
       "      <td>227696</td>\n",
       "    </tr>\n",
       "  </tbody>\n",
       "</table>\n",
       "</div>"
      ],
      "text/plain": [
       "    MDC  流水號       DRG       RW 個案數<20註記 邏輯註記  幾何平均住院日   下限臨界點   上限臨界點\n",
       "10  PRE   11  DRG48201   2.7254      NaN  NaN       12   24614  241318\n",
       "11  PRE   12  DRG48202   2.6825      NaN  NaN       10   28165  272443\n",
       "12  PRE   13  DRG00512  12.6895        ＊  NaN       16  462335  570755\n",
       "13    1    1  DRG00201   3.9266      NaN  NaN       14   55940  312454\n",
       "14    1    2  DRG00202   2.7115      NaN  NaN        9   49323  227696"
      ]
     },
     "execution_count": 4,
     "metadata": {},
     "output_type": "execute_result"
    }
   ],
   "source": [
    "df0 = pd.read_excel('NHI/29705_1_Tw-DRG3.4版分類表_ICD-10-CMPCS_1050104.xlsx',sheetname=41, header = 12 )\n",
    "\n",
    "cost1 = df0[:-1] \n",
    "cost1.loc[:,'DRG'] = cost1.loc[:,'DRG'].replace(r'^(\\d\\d\\d)$','00\\\\1' , regex=True)\n",
    "cost1.loc[:,'DRG'] = cost1.loc[:,'DRG'].replace(r'^(\\d\\d\\d\\d)$','0\\\\1' , regex=True)\n",
    "cost1.loc[:,'DRG'] = cost1.loc[:,'DRG'].replace(r'^(\\d+)','DRG\\\\1' , regex=True)\n",
    "\n",
    "print len(cost1)\n",
    "cost1[10:15]"
   ]
  },
  {
   "cell_type": "markdown",
   "metadata": {},
   "source": [
    "# Merge DRG cost and PCS\n",
    "* cat DRG* >> Total.csv  ;  cat N* >> Total.csv\n",
    "* cat tab* >> name_DRG.3.4.csv "
   ]
  },
  {
   "cell_type": "code",
   "execution_count": 16,
   "metadata": {
    "collapsed": true
   },
   "outputs": [],
   "source": [
    "DRG3 = pd.read_csv('DRG3.4/Total.csv')\n",
    "DRG_name = pd.read_csv('DRG3.4/name_DRG.3.4.csv',sep='\\t', header=None)\n",
    "DRG_name.columns = ['DRG','DRG-name']\n",
    "# Merge DRG and DRG name\n",
    "f1 = pd.merge(DRG_name,DRG3,on='DRG',how='right')\n",
    "# Merge DRG and cost\n",
    "final = pd.merge(f1,cost1,on='DRG',how='right')  \n",
    "\n",
    "final.columns = ['DRG','DRG-NAME','CM-PCS','CM-PCS-Name','MDC','流水號','RW','個案數<20註記','邏輯註記','幾何平均住院日','下限臨界點','上限臨界點']\n",
    "final['定額'] = final['RW']*39277*(1+0.061)\n",
    "#final [ final.DRG.str.contains(r'^N01') ]\n",
    "final.to_csv('DRG3.4/final-3.4.csv' , index=False,encoding='utf-8')"
   ]
  },
  {
   "cell_type": "code",
   "execution_count": null,
   "metadata": {
    "collapsed": true
   },
   "outputs": [],
   "source": []
  }
 ],
 "metadata": {
  "kernelspec": {
   "display_name": "Python 2",
   "language": "python",
   "name": "python2"
  },
  "language_info": {
   "codemirror_mode": {
    "name": "ipython",
    "version": 2
   },
   "file_extension": ".py",
   "mimetype": "text/x-python",
   "name": "python",
   "nbconvert_exporter": "python",
   "pygments_lexer": "ipython2",
   "version": "2.7.10"
  }
 },
 "nbformat": 4,
 "nbformat_minor": 0
}
